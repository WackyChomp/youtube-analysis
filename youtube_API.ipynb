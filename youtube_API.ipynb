{
 "cells": [
  {
   "cell_type": "code",
   "execution_count": null,
   "metadata": {},
   "outputs": [],
   "source": [
    "#1 - Import libraries\n",
    "import requests\n",
    "import pandas as pd\n",
    "import time"
   ]
  },
  {
   "cell_type": "code",
   "execution_count": null,
   "metadata": {},
   "outputs": [],
   "source": [
    "#2 - Keys\n",
    "API_KEY = \"\"\n",
    "#CHANNEL_ID = \"UCX6OQ3DkcsbYNE6H8uQQuVA\"             # Mr Beast\n",
    "CHANNEL_ID = \"UC-lHJZR3Gqxm24_Vd_AJ5Yw\"             # PewDiePie\n",
    "#CHANNEL_ID = \"UCINb0wqPz-A0dV9nARjJlOQ\"             # The Dodo"
   ]
  },
  {
   "cell_type": "code",
   "execution_count": null,
   "metadata": {},
   "outputs": [],
   "source": [
    "#3 - Calling API\n",
    "pageToken = \"\"\n",
    "\n",
    "#from video\n",
    "url = \"https://www.googleapis.com/youtube/v3/search?key=\" + API_KEY + \"&channelId=\" + CHANNEL_ID + \"&part=snippet,id&order=date&maxResults=10000&\" + pageToken\n",
    "response = requests.get(url).json()\n",
    "#response           # uncomment to see raw json file"
   ]
  },
  {
   "cell_type": "code",
   "execution_count": null,
   "metadata": {},
   "outputs": [],
   "source": [
    "#4 - Display first item (latest upload)\n",
    "response['items'][0]"
   ]
  },
  {
   "cell_type": "code",
   "execution_count": null,
   "metadata": {},
   "outputs": [],
   "source": [
    "# Refer to #4 (grab value of videoId from key 'items')\n",
    "# Comment out (optional)\n",
    "video_id = response['items'][0]['id']['videoId']\n",
    "video_id"
   ]
  },
  {
   "cell_type": "code",
   "execution_count": null,
   "metadata": {},
   "outputs": [],
   "source": [
    "# Refer to #4 (grab value of title from key 'items')\n",
    "# Remove excess characters with replace\n",
    "# Comment out (optional)\n",
    "video_title = response['items'][0]['snippet']['title']\n",
    "video_title = str(video_title).replace(\"&amp;\",\"\")\n",
    "video_title"
   ]
  },
  {
   "cell_type": "code",
   "execution_count": null,
   "metadata": {},
   "outputs": [],
   "source": [
    "# Refer to #4 (grab value of publishedAt from key 'items')\n",
    "# Remove all characters to the right after specified split character\n",
    "# Comment out (optional)\n",
    "upload_date = response['items'][0]['snippet']['publishedAt']\n",
    "upload_date = str(upload_date).split(\"T\")[0]\n",
    "upload_date"
   ]
  },
  {
   "cell_type": "code",
   "execution_count": null,
   "metadata": {},
   "outputs": [],
   "source": [
    "# 2nd API Call / video_id is called in video for loop\n",
    "def get_video_information(video_id):\n",
    "    url_video_stats = \"https://www.googleapis.com/youtube/v3/videos?id=\" + video_id + \"&part=statistics&key=\" + API_KEY\n",
    "\n",
    "    response_video_stats = requests.get(url_video_stats).json()\n",
    "\n",
    "    view_count = response_video_stats['items'][0]['statistics']['viewCount']\n",
    "    like_count = response_video_stats['items'][0]['statistics']['likeCount']\n",
    "    #dislike_count = response_video_stats['items'][0]['statistics']['dislikeCount']\n",
    "    comment_count = response_video_stats['items'][0]['statistics']['commentCount']\n",
    "\n",
    "    return view_count, like_count, comment_count"
   ]
  },
  {
   "cell_type": "code",
   "execution_count": null,
   "metadata": {},
   "outputs": [],
   "source": [
    "# Passing Pandas dataframe into function\n",
    "def get_videos(df):\n",
    "    # These 3 lines are from Cell # 3\n",
    "    pageToken = \"\"\n",
    "    url = \"https://www.googleapis.com/youtube/v3/search?key=\" + API_KEY + \"&channelId=\" + CHANNEL_ID + \"&part=snippet,id&order=date&maxResults=10000&\" + pageToken\n",
    "    response = requests.get(url).json()\n",
    "\n",
    "    time.sleep(1)       # 1 second delay / provides API enough time to process\n",
    "\n",
    "    # For loop that grabs info specifically from videos\n",
    "    for video in response['items']:\n",
    "        if video['id']['kind'] == \"youtube#video\":\n",
    "            video_id = video['id']['videoId']\n",
    "            video_title = video['snippet']['title']\n",
    "            video_title = str(video_title).replace(\"&amp;\",\"\")\n",
    "            upload_date = video['snippet']['publishedAt']\n",
    "            upload_date = str(upload_date).split(\"T\")[0]\n",
    "\n",
    "            # 2nd API call gets called here\n",
    "            view_count, like_count, comment_count = get_video_information(video_id)\n",
    "\n",
    "\n",
    "            # Saving data into Pandas dataframe with append\n",
    "            df = df.append({\n",
    "                'video_id': video_id,\n",
    "                'video_title': video_title,\n",
    "                'upload_date': upload_date,\n",
    "                'view_count': view_count,\n",
    "                'like_count': like_count,\n",
    "                'comment_count': comment_count}, ignore_index=True)\n",
    "\n",
    "\n",
    "            # Outputs\n",
    "            # print(video_id)\n",
    "            # print(video_title)\n",
    "            # print(upload_date)\n",
    "            # print(view_count)\n",
    "            # print(like_count)\n",
    "            # print(comment_count)\n",
    "\n",
    "    return df"
   ]
  },
  {
   "cell_type": "code",
   "execution_count": null,
   "metadata": {},
   "outputs": [],
   "source": [
    "# Build dataframe (built empty / populated after for loop)\n",
    "df = pd.DataFrame(columns=[\"video_id\",\"video_title\",\"upload_date\",\"view_count\",\"like_count\",\"comment_count\"])\n",
    "\n",
    "df = get_videos(df)"
   ]
  }
 ],
 "metadata": {
  "kernelspec": {
   "display_name": "Python 3.8.3 64-bit",
   "language": "python",
   "name": "python3"
  },
  "language_info": {
   "codemirror_mode": {
    "name": "ipython",
    "version": 3
   },
   "file_extension": ".py",
   "mimetype": "text/x-python",
   "name": "python",
   "nbconvert_exporter": "python",
   "pygments_lexer": "ipython3",
   "version": "3.8.3"
  },
  "orig_nbformat": 4,
  "vscode": {
   "interpreter": {
    "hash": "e6fb3015f85eb8f38e4d9b7bc63bca68a9485e16e95c322c28766d63ab9d8c70"
   }
  }
 },
 "nbformat": 4,
 "nbformat_minor": 2
}
