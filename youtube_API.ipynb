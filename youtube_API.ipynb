{
 "cells": [
  {
   "cell_type": "code",
   "execution_count": null,
   "metadata": {},
   "outputs": [],
   "source": [
    "# Import libraries\n",
    "import requests\n",
    "import pandas as pd\n",
    "import time"
   ]
  },
  {
   "cell_type": "code",
   "execution_count": null,
   "metadata": {},
   "outputs": [],
   "source": [
    "# Keys\n",
    "API_KEY = \"\"\n",
    "#CHANNEL_ID = \"UCX6OQ3DkcsbYNE6H8uQQuVA\"             # Mr Beast\n",
    "CHANNEL_ID = \"UC-lHJZR3Gqxm24_Vd_AJ5Yw\"             # PewDiePie\n",
    "#CHANNEL_ID = \"UCINb0wqPz-A0dV9nARjJlOQ\"             # The Dodo"
   ]
  },
  {
   "cell_type": "code",
   "execution_count": null,
   "metadata": {},
   "outputs": [],
   "source": [
    "# Calling API\n",
    "pageToken = \"\"\n",
    "\n",
    "#from video\n",
    "url = \"https://www.googleapis.com/youtube/v3/search?key=\" + API_KEY + \"&channelId=\" + CHANNEL_ID + \"&part=snippet,id&order=date&maxResults=10000&\" + pageToken\n",
    "response = requests.get(url).json()\n",
    "#response"
   ]
  },
  {
   "cell_type": "code",
   "execution_count": null,
   "metadata": {},
   "outputs": [],
   "source": [
    "# Display first item\n",
    "response['items'][0]"
   ]
  },
  {
   "cell_type": "code",
   "execution_count": null,
   "metadata": {},
   "outputs": [],
   "source": [
    "video_id = response['items'][0]['id']['videoId']\n",
    "video_id"
   ]
  },
  {
   "cell_type": "code",
   "execution_count": null,
   "metadata": {},
   "outputs": [],
   "source": [
    "video_title = response['items'][0]['snippet']['title']\n",
    "video_title = str(video_title).replace(\"&amp;\",\"\")\n",
    "video_title"
   ]
  },
  {
   "cell_type": "code",
   "execution_count": null,
   "metadata": {},
   "outputs": [],
   "source": [
    "upload_date = response['items'][0]['snippet']['publishedAt']\n",
    "upload_date = str(upload_date).split(\"T\")[0]           # Remove all characters to the right after specified character\n",
    "upload_date"
   ]
  }
 ],
 "metadata": {
  "kernelspec": {
   "display_name": "Python 3.8.3 64-bit",
   "language": "python",
   "name": "python3"
  },
  "language_info": {
   "codemirror_mode": {
    "name": "ipython",
    "version": 3
   },
   "file_extension": ".py",
   "mimetype": "text/x-python",
   "name": "python",
   "nbconvert_exporter": "python",
   "pygments_lexer": "ipython3",
   "version": "3.8.3"
  },
  "orig_nbformat": 4,
  "vscode": {
   "interpreter": {
    "hash": "e6fb3015f85eb8f38e4d9b7bc63bca68a9485e16e95c322c28766d63ab9d8c70"
   }
  }
 },
 "nbformat": 4,
 "nbformat_minor": 2
}
