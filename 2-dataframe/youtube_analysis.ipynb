{
 "cells": [
  {
   "cell_type": "markdown",
   "metadata": {},
   "source": [
    "YouTube Channel Analysis (w/ YouTube API)"
   ]
  },
  {
   "cell_type": "code",
   "execution_count": null,
   "metadata": {},
   "outputs": [],
   "source": [
    "# Imports\n",
    "from googleapiclient.discovery import build\n",
    "import pandas as pd\n",
    "from IPython.display import JSON\n",
    "\n",
    "\n",
    "# API_Key\n",
    "api_key = 'SOME-SPECTACULAR-SECRET-SHOULD-SITUATE'\n",
    "\n",
    "\n",
    "# List of Channel IDs\n",
    "CHANNEL_IDS = [\n",
    "                \"UCX6OQ3DkcsbYNE6H8uQQuVA\",     # Mr Beast\n",
    "                \"UC-lHJZR3Gqxm24_Vd_AJ5Yw\",     # PewDiePie\n",
    "                \"UCINb0wqPz-A0dV9nARjJlOQ\",     # The Dodo      \n",
    "              ]"
   ]
  },
  {
   "cell_type": "code",
   "execution_count": null,
   "metadata": {},
   "outputs": [],
   "source": [
    "api_service_name = \"youtube\"\n",
    "api_version = \"v3\"\n",
    "\n",
    "# Get credentials and create an API client\n",
    "youtube = build(\n",
    "api_service_name, api_version, developerKey=api_key)\n",
    "\n",
    "request = youtube.channels().list(\n",
    "  part ='snippet,contentDetails,statistics',\n",
    "  id=','.join(CHANNEL_IDS)\n",
    ")\n",
    "response = request.execute()\n",
    "\n",
    "#print(response)\n",
    "JSON(response)"
   ]
  }
 ],
 "metadata": {
  "kernelspec": {
   "display_name": "venv-yt",
   "language": "python",
   "name": "python3"
  },
  "language_info": {
   "codemirror_mode": {
    "name": "ipython",
    "version": 3
   },
   "file_extension": ".py",
   "mimetype": "text/x-python",
   "name": "python",
   "nbconvert_exporter": "python",
   "pygments_lexer": "ipython3",
   "version": "3.10.7"
  },
  "orig_nbformat": 4
 },
 "nbformat": 4,
 "nbformat_minor": 2
}
