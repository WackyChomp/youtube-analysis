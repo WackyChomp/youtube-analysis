{
 "cells": [
  {
   "cell_type": "markdown",
   "metadata": {},
   "source": [
    "YouTube Channel Analysis (w/ YouTube API)"
   ]
  },
  {
   "cell_type": "code",
   "execution_count": 1,
   "metadata": {},
   "outputs": [],
   "source": [
    "# Imports\n",
    "from googleapiclient.discovery import build\n",
    "import pandas as pd\n",
    "from IPython.display import JSON\n",
    "\n",
    "\n",
    "# API_Key\n",
    "api_key = 'SOME-SPECTACULAR-SECRET-SHOULD-SITUATE'\n",
    "\n",
    "\n",
    "# List of Channel IDs\n",
    "CHANNEL_IDS = [\n",
    "                \"UCX6OQ3DkcsbYNE6H8uQQuVA\",     # Mr Beast\n",
    "                \"UC-lHJZR3Gqxm24_Vd_AJ5Yw\",     # PewDiePie\n",
    "                \"UCINb0wqPz-A0dV9nARjJlOQ\",     # The Dodo\n",
    "                \"UCY1kMZp36IQSyNx_9h4mpCg\",     # Mark Rober\n",
    "                \"UC6nSFpj9HTCZ5t-N3Rm3-HA\",     # Vsauce\n",
    "                \"UCiDJtJKMICpb9B1qf7qjEOA\",     # Adam Savage's Tested\n",
    "              ]"
   ]
  },
  {
   "cell_type": "code",
   "execution_count": 2,
   "metadata": {},
   "outputs": [],
   "source": [
    "api_service_name = \"youtube\"\n",
    "api_version = \"v3\"\n",
    "youtube = build(api_service_name, api_version, developerKey=api_key)\n",
    "\n",
    "\n",
    "def get_channel_stats(youtube, CHANNEL_IDS):\n",
    "  all_data = []\n",
    "\n",
    "  request = youtube.channels().list(\n",
    "    part ='snippet,contentDetails,statistics',\n",
    "    id=','.join(CHANNEL_IDS)\n",
    "  )\n",
    "  response = request.execute()\n",
    "\n",
    "  JSON(response)\n",
    "\n",
    "  # Looping through items / refer to properties in YouTube API doc\n",
    "  # https://developers.google.com/youtube/v3/docs/channels\n",
    "  for item in response['items']:\n",
    "    data = {\n",
    "      'channelName': item['snippet']['title'],\n",
    "      'subscribers': item['statistics']['subscriberCount'],\n",
    "      'views': item['statistics']['viewCount'],\n",
    "      'totalVideos': item['statistics']['videoCount'],            \n",
    "      'playlistId': item['contentDetails']['relatedPlaylists']['uploads'],\n",
    "    }\n",
    "\n",
    "    all_data.append(data)\n",
    "\n",
    "\n",
    "\n",
    "  return(pd.DataFrame(all_data))\n",
    "\n",
    "# # Get credentials and create an API client\n",
    "# youtube = build(\n",
    "# api_service_name, api_version, developerKey=api_key)\n",
    "\n",
    "# request = youtube.channels().list(\n",
    "#   part ='snippet,contentDetails,statistics',\n",
    "#   id=','.join(CHANNEL_IDS)\n",
    "# )\n",
    "# response = request.execute()\n",
    "\n",
    "# #print(response)\n",
    "# JSON(response)"
   ]
  },
  {
   "cell_type": "code",
   "execution_count": 3,
   "metadata": {},
   "outputs": [
    {
     "data": {
      "text/html": [
       "<div>\n",
       "<style scoped>\n",
       "    .dataframe tbody tr th:only-of-type {\n",
       "        vertical-align: middle;\n",
       "    }\n",
       "\n",
       "    .dataframe tbody tr th {\n",
       "        vertical-align: top;\n",
       "    }\n",
       "\n",
       "    .dataframe thead th {\n",
       "        text-align: right;\n",
       "    }\n",
       "</style>\n",
       "<table border=\"1\" class=\"dataframe\">\n",
       "  <thead>\n",
       "    <tr style=\"text-align: right;\">\n",
       "      <th></th>\n",
       "      <th>channelName</th>\n",
       "      <th>subscribers</th>\n",
       "      <th>views</th>\n",
       "      <th>totalVideos</th>\n",
       "      <th>playlistId</th>\n",
       "    </tr>\n",
       "  </thead>\n",
       "  <tbody>\n",
       "    <tr>\n",
       "      <th>0</th>\n",
       "      <td>The Dodo</td>\n",
       "      <td>14200000</td>\n",
       "      <td>10022114008</td>\n",
       "      <td>7953</td>\n",
       "      <td>UUINb0wqPz-A0dV9nARjJlOQ</td>\n",
       "    </tr>\n",
       "    <tr>\n",
       "      <th>1</th>\n",
       "      <td>MrBeast</td>\n",
       "      <td>171000000</td>\n",
       "      <td>29103914590</td>\n",
       "      <td>741</td>\n",
       "      <td>UUX6OQ3DkcsbYNE6H8uQQuVA</td>\n",
       "    </tr>\n",
       "    <tr>\n",
       "      <th>2</th>\n",
       "      <td>PewDiePie</td>\n",
       "      <td>111000000</td>\n",
       "      <td>29069967619</td>\n",
       "      <td>4716</td>\n",
       "      <td>UU-lHJZR3Gqxm24_Vd_AJ5Yw</td>\n",
       "    </tr>\n",
       "  </tbody>\n",
       "</table>\n",
       "</div>"
      ],
      "text/plain": [
       "  channelName subscribers        views totalVideos                playlistId\n",
       "0    The Dodo    14200000  10022114008        7953  UUINb0wqPz-A0dV9nARjJlOQ\n",
       "1     MrBeast   171000000  29103914590         741  UUX6OQ3DkcsbYNE6H8uQQuVA\n",
       "2   PewDiePie   111000000  29069967619        4716  UU-lHJZR3Gqxm24_Vd_AJ5Yw"
      ]
     },
     "execution_count": 3,
     "metadata": {},
     "output_type": "execute_result"
    }
   ],
   "source": [
    "channel_stats = get_channel_stats(youtube, CHANNEL_IDS)\n",
    "channel_stats"
   ]
  }
 ],
 "metadata": {
  "kernelspec": {
   "display_name": "venv-yt",
   "language": "python",
   "name": "python3"
  },
  "language_info": {
   "codemirror_mode": {
    "name": "ipython",
    "version": 3
   },
   "file_extension": ".py",
   "mimetype": "text/x-python",
   "name": "python",
   "nbconvert_exporter": "python",
   "pygments_lexer": "ipython3",
   "version": "3.10.7"
  },
  "orig_nbformat": 4
 },
 "nbformat": 4,
 "nbformat_minor": 2
}
