{
 "cells": [
  {
   "cell_type": "code",
   "execution_count": null,
   "metadata": {},
   "outputs": [],
   "source": [
    "#1 - Import libraries\n",
    "import requests\n",
    "import pandas as pd\n",
    "import time"
   ]
  },
  {
   "cell_type": "code",
   "execution_count": null,
   "metadata": {},
   "outputs": [],
   "source": [
    "#2 - Keys\n",
    "API_KEY = \"\"\n",
    "#CHANNEL_ID = \"UCX6OQ3DkcsbYNE6H8uQQuVA\"             # Mr Beast\n",
    "CHANNEL_ID = \"UC-lHJZR3Gqxm24_Vd_AJ5Yw\"             # PewDiePie\n",
    "#CHANNEL_ID = \"UCINb0wqPz-A0dV9nARjJlOQ\"             # The Dodo"
   ]
  },
  {
   "cell_type": "code",
   "execution_count": null,
   "metadata": {},
   "outputs": [],
   "source": [
    "#3 - Calling API\n",
    "pageToken = \"\"\n",
    "\n",
    "#from video\n",
    "url = \"https://www.googleapis.com/youtube/v3/search?key=\" + API_KEY + \"&channelId=\" + CHANNEL_ID + \"&part=snippet,id&order=date&maxResults=10000&\" + pageToken\n",
    "response = requests.get(url).json()\n",
    "#response           # uncomment to see raw json file"
   ]
  },
  {
   "cell_type": "code",
   "execution_count": null,
   "metadata": {},
   "outputs": [],
   "source": [
    "#4 - Display first item (latest upload)\n",
    "response['items'][0]"
   ]
  },
  {
   "cell_type": "code",
   "execution_count": null,
   "metadata": {},
   "outputs": [],
   "source": [
    "# Refer to #4 (grab value of videoId from key 'items')\n",
    "# Comment out (optional)\n",
    "video_id = response['items'][0]['id']['videoId']\n",
    "video_id"
   ]
  },
  {
   "cell_type": "code",
   "execution_count": null,
   "metadata": {},
   "outputs": [],
   "source": [
    "# Refer to #4 (grab value of title from key 'items')\n",
    "# Remove excess characters with replace\n",
    "# Comment out (optional)\n",
    "video_title = response['items'][0]['snippet']['title']\n",
    "video_title = str(video_title).replace(\"&amp;\",\"\")\n",
    "video_title"
   ]
  },
  {
   "cell_type": "code",
   "execution_count": null,
   "metadata": {},
   "outputs": [],
   "source": [
    "# Refer to #4 (grab value of publishedAt from key 'items')\n",
    "# Remove all characters to the right after specified split character\n",
    "# Comment out (optional)\n",
    "upload_date = response['items'][0]['snippet']['publishedAt']\n",
    "upload_date = str(upload_date).split(\"T\")[0]\n",
    "upload_date"
   ]
  },
  {
   "cell_type": "code",
   "execution_count": null,
   "metadata": {},
   "outputs": [],
   "source": [
    "# For loop that grabs info specifically from videos\n",
    "for video in response['items']:\n",
    "    if video['id']['kind'] == \"youtube#video\":\n",
    "        video_id = video['items'][0]['id']['videoId']\n",
    "        video_title = video['items'][0]['snippet']['title']\n",
    "        video_title = str(video_title).replace(\"&amp;\",\"\")\n",
    "        upload_date = video['items'][0]['snippet']['publishedAt']\n",
    "        upload_date = str(upload_date).split(\"T\")[0]\n",
    "\n",
    "        print(video_id)\n",
    "        print(video_title)\n",
    "        print(upload_date)"
   ]
  }
 ],
 "metadata": {
  "kernelspec": {
   "display_name": "Python 3.8.3 64-bit",
   "language": "python",
   "name": "python3"
  },
  "language_info": {
   "codemirror_mode": {
    "name": "ipython",
    "version": 3
   },
   "file_extension": ".py",
   "mimetype": "text/x-python",
   "name": "python",
   "nbconvert_exporter": "python",
   "pygments_lexer": "ipython3",
   "version": "3.8.3"
  },
  "orig_nbformat": 4,
  "vscode": {
   "interpreter": {
    "hash": "e6fb3015f85eb8f38e4d9b7bc63bca68a9485e16e95c322c28766d63ab9d8c70"
   }
  }
 },
 "nbformat": 4,
 "nbformat_minor": 2
}
