{
 "cells": [
  {
   "cell_type": "code",
   "execution_count": null,
   "metadata": {},
   "outputs": [],
   "source": [
    "# Import libraries\n",
    "import requests\n",
    "import pandas as pd\n",
    "import time"
   ]
  },
  {
   "cell_type": "code",
   "execution_count": null,
   "metadata": {},
   "outputs": [],
   "source": [
    "# Keys\n",
    "API_KEY = \"\"\n",
    "#CHANNEL_ID = \"UCX6OQ3DkcsbYNE6H8uQQuVA\"             # Mr Beast\n",
    "CHANNEL_ID = \"UC-lHJZR3Gqxm24_Vd_AJ5Yw\"             # PewDiePie\n",
    "#CHANNEL_ID = \"UCINb0wqPz-A0dV9nARjJlOQ\"             # The Dodo"
   ]
  },
  {
   "cell_type": "code",
   "execution_count": null,
   "metadata": {},
   "outputs": [],
   "source": [
    "# Calling API\n",
    "pageToken = \"\"\n",
    "\n",
    "#from video\n",
    "url = \"https://www.googleapis.com/youtube/v3/search?key=\" + API_KEY + \"&channelId=\" + CHANNEL_ID + \"&part=snippet,id&order=date&maxResults=10000&\" + pageToken\n",
    "response = requests.get(url).json()\n",
    "response"
   ]
  },
  {
   "cell_type": "code",
   "execution_count": null,
   "metadata": {},
   "outputs": [],
   "source": []
  }
 ],
 "metadata": {
  "kernelspec": {
   "display_name": "Python 3.8.3 64-bit",
   "language": "python",
   "name": "python3"
  },
  "language_info": {
   "codemirror_mode": {
    "name": "ipython",
    "version": 3
   },
   "file_extension": ".py",
   "mimetype": "text/x-python",
   "name": "python",
   "nbconvert_exporter": "python",
   "pygments_lexer": "ipython3",
   "version": "3.8.3"
  },
  "orig_nbformat": 4,
  "vscode": {
   "interpreter": {
    "hash": "e6fb3015f85eb8f38e4d9b7bc63bca68a9485e16e95c322c28766d63ab9d8c70"
   }
  }
 },
 "nbformat": 4,
 "nbformat_minor": 2
}
